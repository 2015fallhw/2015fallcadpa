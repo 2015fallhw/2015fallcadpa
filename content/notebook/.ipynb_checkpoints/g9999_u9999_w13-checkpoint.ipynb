{
 "cells": [
  {
   "cell_type": "markdown",
   "metadata": {
    "run_control": {
     "read_only": false
    }
   },
   "source": [
    "<script type=\"text/python3\">\n",
    "# 導入 doc\n",
    "from browser import document as doc\n",
    "import math\n",
    "\n",
    "# 準備繪圖畫布\n",
    "canvas = doc[\"plotarea\"]\n",
    "ctx = canvas.getContext(\"2d\")\n",
    "# 進行座標轉換, x 軸不變, y 軸反向且移動 canvas.height 單位光點\n",
    "# ctx.setTransform(1, 0, 0, -1, 0, canvas.height)\n",
    "# 以下採用 canvas 原始座標繪圖\n",
    "# 定義畫線函式\n",
    "def draw_line(x1, y1, x2, y2, linethick = 3, color = \"black\"):\n",
    "    ctx.beginPath()\n",
    "    ctx.lineWidth = linethick\n",
    "    ctx.moveTo(x1, y1)\n",
    "    ctx.lineTo(x2, y2)\n",
    "    ctx.strokeStyle = color\n",
    "    ctx.stroke()\n",
    "\n",
    "# x, y 為中心,  r 為半徑, angle 旋轉角,  solid 空心或實心,  color 顏色\n",
    "def star(x, y, r, angle=0, solid=False, color=\"#f00\"):\n",
    "    # 以 x, y 為圓心, 計算五個外點\n",
    "    deg = math.pi/180\n",
    "    # 圓心到水平線距離\n",
    "    a = r*math.cos(72*deg)\n",
    "    # a 頂點向右到內點距離\n",
    "    b = (r*math.cos(72*deg)/math.cos(36*deg))*math.sin(36*deg)\n",
    "    # 利用畢氏定理求內點半徑\n",
    "    rin = math.sqrt(a**2 + b**2)\n",
    "    # 查驗 a, b 與 rin\n",
    "    #print(a, b, rin)\n",
    "    if(solid):\n",
    "        ctx.beginPath()\n",
    "    for i in range(5):\n",
    "        xout = (x + r*math.sin((360/5)*deg*i+angle*deg))\n",
    "        yout = (y + r*math.cos((360/5)*deg*i+angle*deg))\n",
    "        # 外點增量 + 1\n",
    "        xout2 = x + r*math.sin((360/5)*deg*(i+1)+angle*deg)\n",
    "        yout2 = y + r*math.cos((360/5)*deg*(i+1)+angle*deg)\n",
    "        xin = x + rin*math.sin((360/5)*deg*i+36*deg+angle*deg)\n",
    "        yin = y + rin*math.cos((360/5)*deg*i+36*deg+angle*deg)\n",
    "        # 查驗外點與內點座標\n",
    "        #print(xout, yout, xin, yin)\n",
    "        if(solid):\n",
    "            # 填色\n",
    "            if(i==0):\n",
    "                ctx.moveTo(xout, yout)\n",
    "                ctx.lineTo(xin, yin)\n",
    "                ctx.lineTo(xout2, yout2)\n",
    "            else:\n",
    "                ctx.lineTo(xin, yin)\n",
    "                ctx.lineTo(xout2, yout2)\n",
    "        else:\n",
    "            # 空心\n",
    "            draw_line(xout, yout, xin, yin, color)\n",
    "            # 畫空心五芒星, 無關畫線次序, 若實心則與畫線次序有關\n",
    "            draw_line(xout2, yout2, xin, yin, color)\n",
    "    if(solid):\n",
    "        ctx.fillStyle = color\n",
    "        ctx.fill()\n",
    "star(40, 40, 30, 0, True, \"#f00\")\n",
    "</script>"
   ]
  }
 ],
 "metadata": {
  "kernelspec": {
   "display_name": "Python 3",
   "language": "python",
   "name": "python3"
  },
  "language_info": {
   "codemirror_mode": {
    "name": "ipython",
    "version": 3
   },
   "file_extension": ".py",
   "mimetype": "text/x-python",
   "name": "python",
   "nbconvert_exporter": "python",
   "pygments_lexer": "ipython3",
   "version": "3.4.3"
  }
 },
 "nbformat": 4,
 "nbformat_minor": 0
}
